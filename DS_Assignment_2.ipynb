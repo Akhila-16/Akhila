{
  "nbformat": 4,
  "nbformat_minor": 0,
  "metadata": {
    "colab": {
      "name": "DS_Assignment_2",
      "provenance": [],
      "authorship_tag": "ABX9TyN6hTsgRaGhDEK2tSMfmFYD",
      "include_colab_link": true
    },
    "kernelspec": {
      "name": "python3",
      "display_name": "Python 3"
    }
  },
  "cells": [
    {
      "cell_type": "markdown",
      "metadata": {
        "id": "view-in-github",
        "colab_type": "text"
      },
      "source": [
        "<a href=\"https://colab.research.google.com/github/Akhila-16/Akhila/blob/master/DS_Assignment_2.ipynb\" target=\"_parent\"><img src=\"https://colab.research.google.com/assets/colab-badge.svg\" alt=\"Open In Colab\"/></a>"
      ]
    },
    {
      "cell_type": "markdown",
      "metadata": {
        "id": "9GAMOplSldsy"
      },
      "source": [
        "*1. Write a program to store the following data using a singly linked list. Each node must store information of a*\r\n",
        "\r\n",
        "                   1. Person name\r\n",
        "                   2. Contact number\r\n",
        "                   3. Email address\r\n",
        "                   4. Date of birth\r\n",
        "                   5. Unique identity "
      ]
    },
    {
      "cell_type": "code",
      "metadata": {
        "colab": {
          "base_uri": "https://localhost:8080/"
        },
        "id": "BwRgsuBnlq9l",
        "outputId": "cd6ac98c-519b-462c-ce57-0b339aa639e8"
      },
      "source": [
        "\r\n",
        "class Node:\r\n",
        "    def __init__(self, data): \r\n",
        "        self.data = data \r\n",
        "        self.next = None\r\n",
        "class LinkedList: \r\n",
        "    def __init__(self): \r\n",
        "        self.head = None\r\n",
        "    def printList(self): \r\n",
        "        temp = self.head \r\n",
        "        while (temp): \r\n",
        "            print (temp.data)\r\n",
        "            temp = temp.next\r\n",
        "if __name__=='__main__': \r\n",
        "  llist = LinkedList() \r\n",
        "  llist.head = Node('Akhila')\r\n",
        "  second = Node(9346080236)\r\n",
        "  third = Node('321910305015@gitam.in') \r\n",
        "  fourth = Node(2002)\r\n",
        "  fifth = Node('a good programmer')\r\n",
        "  llist.head.next = second;\r\n",
        "  second.next = third;\r\n",
        "  third.next = fourth;\r\n",
        "  fourth.next = fifth;\r\n",
        "  llist.printList()"
      ],
      "execution_count": null,
      "outputs": [
        {
          "output_type": "stream",
          "text": [
            "Akhila\n",
            "9346080236\n",
            "321910305015@gitam.in\n",
            "2002\n",
            "a good programmer\n"
          ],
          "name": "stdout"
        }
      ]
    },
    {
      "cell_type": "markdown",
      "metadata": {
        "id": "AdXksxctndXZ"
      },
      "source": [
        "*2. Solve question no Q1 using doubly linked list*\r\n",
        "\r\n"
      ]
    },
    {
      "cell_type": "code",
      "metadata": {
        "colab": {
          "base_uri": "https://localhost:8080/"
        },
        "id": "650QfglknxOp",
        "outputId": "098c911d-8896-4320-9603-682d069210a3"
      },
      "source": [
        "   \r\n",
        "class Node:    \r\n",
        "    def __init__(self,data):    \r\n",
        "        self.data = data;    \r\n",
        "        self.previous = None;    \r\n",
        "        self.next = None;    \r\n",
        "            \r\n",
        "class DoublyLinkedList:     \r\n",
        "    def __init__(self):    \r\n",
        "        self.head = None;    \r\n",
        "        self.tail = None;    \r\n",
        "    def addNode(self, data):       \r\n",
        "        newNode = Node(data);      \r\n",
        "        if(self.head == None):       \r\n",
        "            self.head = self.tail = newNode;    \r\n",
        "            self.head.previous = None;    \r\n",
        "            self.tail.next = None;    \r\n",
        "        else:     \r\n",
        "            self.tail.next = newNode;    \r\n",
        "            newNode.previous = self.tail;     \r\n",
        "            self.tail = newNode;     \r\n",
        "            self.tail.next = None;   \r\n",
        "    def display(self):    \r\n",
        "        current = self.head;    \r\n",
        "        if(self.head == None):    \r\n",
        "            print(\"List is empty\");    \r\n",
        "            return;    \r\n",
        "        print(\"Nodes of doubly linked list: \");    \r\n",
        "        while(current != None):    \r\n",
        "            print(current.data),;    \r\n",
        "            current = current.next;    \r\n",
        "                \r\n",
        "dList = DoublyLinkedList();    \r\n",
        "dList.addNode('Akhila');    \r\n",
        "dList.addNode(9346080236);    \r\n",
        "dList.addNode('321910305015@gitam.in');    \r\n",
        "dList.addNode(2002);    \r\n",
        "dList.addNode('a good programmer');      \r\n",
        "dList.display();\r\n",
        "\r\n"
      ],
      "execution_count": null,
      "outputs": [
        {
          "output_type": "stream",
          "text": [
            "Nodes of doubly linked list: \n",
            "Akhila\n",
            "9346080236\n",
            "321910305015@gitam.in\n",
            "2002\n",
            "a good programmer\n"
          ],
          "name": "stdout"
        }
      ]
    },
    {
      "cell_type": "markdown",
      "metadata": {
        "id": "lGBp4NEloyVN"
      },
      "source": [
        "*3. Write a program to demonstrate the working of queues using arrays*"
      ]
    },
    {
      "cell_type": "code",
      "metadata": {
        "colab": {
          "base_uri": "https://localhost:8080/"
        },
        "id": "TMw4oP-1o3LV",
        "outputId": "d39e0863-d686-45b4-9726-b11928edb2dc"
      },
      "source": [
        "class Queue: \r\n",
        "    def __init__(self, c): \r\n",
        "        \r\n",
        "        self.queue = [] \r\n",
        "        self.front = self.rear = 0\r\n",
        "        self.capacity = c \r\n",
        "    def queueEnqueue(self, data): \r\n",
        "        if(self.capacity == self.rear): \r\n",
        "            print(\"\\nQueue is full\")  \r\n",
        "        else: \r\n",
        "            self.queue.append(data) \r\n",
        "            self.rear += 1\r\n",
        "    def queueDequeue(self): \r\n",
        "        if(self.front == self.rear): \r\n",
        "            print(\"Queue is empty\") \r\n",
        "        else: \r\n",
        "            x = self.queue.pop(0) \r\n",
        "            self.rear -= 1\r\n",
        "    def queueDisplay(self): \r\n",
        "        \r\n",
        "        if(self.front == self.rear): \r\n",
        "            print(\"\\nQueue is Empty\") \r\n",
        "        for i in self.queue: \r\n",
        "            print(i, \"<--\", end = '')  \r\n",
        "    def queueFront(self): \r\n",
        "        \r\n",
        "        if(self.front == self.rear): \r\n",
        "            print(\"\\nQueue is Empty\") \r\n",
        " \r\n",
        "        print(\"\\nFront Element is:\", \r\n",
        "            self.queue[self.front])\r\n",
        "if __name__=='__main__':  \r\n",
        "    q = Queue(5) \r\n",
        "    q.queueDisplay() \r\n",
        "    q.queueEnqueue(14) \r\n",
        "    q.queueEnqueue(18) \r\n",
        "    q.queueEnqueue(27) \r\n",
        "    q.queueEnqueue(36) \r\n",
        "    q.queueEnqueue(45)\r\n",
        "    q.queueDisplay() \r\n",
        "    q.queueEnqueue(27) \r\n",
        "    q.queueDisplay() \r\n",
        " \r\n",
        "    q.queueDequeue() \r\n",
        "    q.queueDequeue() \r\n",
        "    print(\"\\n\\nafter two node deletion\\n\") \r\n",
        "    q.queueDisplay()  \r\n",
        "    q.queueFront()"
      ],
      "execution_count": null,
      "outputs": [
        {
          "output_type": "stream",
          "text": [
            "\n",
            "Queue is Empty\n",
            "14 <--18 <--27 <--36 <--45 <--\n",
            "Queue is full\n",
            "14 <--18 <--27 <--36 <--45 <--\n",
            "\n",
            "after two node deletion\n",
            "\n",
            "27 <--36 <--45 <--\n",
            "Front Element is: 27\n"
          ],
          "name": "stdout"
        }
      ]
    },
    {
      "cell_type": "markdown",
      "metadata": {
        "id": "wHI4A0xNqcnV"
      },
      "source": [
        "\r\n",
        "4. Write a program to create binary search tree for the following elements: 76, 24, 35, 87, 59, 92, 44, 23, 33, 66, 88 "
      ]
    },
    {
      "cell_type": "code",
      "metadata": {
        "colab": {
          "base_uri": "https://localhost:8080/"
        },
        "id": "IlScxsqUs3aa",
        "outputId": "d37c2722-5b13-4a9e-f672-9d1f400d2995"
      },
      "source": [
        "class Node:\r\n",
        "    def __init__(self, data):\r\n",
        "        self.data = data\r\n",
        "        self.left = None\r\n",
        "        self.right = None\r\n",
        "    \r\n",
        "    def add_child(self, data):\r\n",
        "        if data == self.data: \r\n",
        "            return\r\n",
        "        if data < self.data:\r\n",
        "            if self.left: \r\n",
        "                self.left.add_child(data)\r\n",
        "            else: \r\n",
        "                self.left = Node(data)\r\n",
        "        else:\r\n",
        "            if self.right:\r\n",
        "                self.right.add_child(data)\r\n",
        "            else:\r\n",
        "                self.right = Node(data)\r\n",
        "    def inorder_print(self):\r\n",
        "        elements = []\r\n",
        "        if self.left:\r\n",
        "            elements += self.left.inorder_print()\r\n",
        "        elements.append(self.data)\r\n",
        "        if self.right:\r\n",
        "            elements += self.right.inorder_print()\r\n",
        "        \r\n",
        "        return elements\r\n",
        " \r\n",
        "    def postorder_print(self):\r\n",
        "        elements = []\r\n",
        "        if self.left:\r\n",
        "            elements += self.left.postorder_print()\r\n",
        "        if self.right:\r\n",
        "            elements += self.right.postorder_print()\r\n",
        "        elements.append(self.data)\r\n",
        "        \r\n",
        "        return elements\r\n",
        " \r\n",
        "    def preorder_print(self):\r\n",
        "        elements = []\r\n",
        "        \r\n",
        "        elements.append(self.data)\r\n",
        "        if self.left:\r\n",
        "            elements += self.left.preorder_print()\r\n",
        "        if self.right:\r\n",
        "            elements += self.right.preorder_print()\r\n",
        "        \r\n",
        "        return elements\r\n",
        "        \r\n",
        "    \r\n",
        "    def search(self, value):\r\n",
        "        if self.data == value:\r\n",
        "            return True\r\n",
        "        if value < self.data:\r\n",
        "            if self.left:\r\n",
        "                return self.left.search(value)\r\n",
        "            else:\r\n",
        "                return False \r\n",
        " \r\n",
        "        if value > self.data:\r\n",
        "            if self.right:\r\n",
        "                return self.right.search(value)\r\n",
        "            else:\r\n",
        "                return False\r\n",
        " \r\n",
        "def display_tree(elements):\r\n",
        " \r\n",
        "    root = Node(elements[0])\r\n",
        " \r\n",
        "    for i in range(1, len(elements)):\r\n",
        "        root.add_child(elements[i])\r\n",
        "    \r\n",
        "    return root\r\n",
        " \r\n",
        "def sum_of_elements(elements):\r\n",
        "    sum_ = sum(elements)\r\n",
        "    return sum_\r\n",
        " \r\n",
        "def find_min(elements):\r\n",
        "    min_ = min(elements)\r\n",
        "    return min_\r\n",
        " \r\n",
        "def find_max(elements):\r\n",
        "    max_ = max(elements)\r\n",
        "    return max_\r\n",
        " \r\n",
        "if __name__ == '__main__':\r\n",
        "    \r\n",
        "    nodes = [76, 24, 35, 87, 59, 92, 44, 23, 33, 66, 88]\r\n",
        "    nodes_tree = display_tree(nodes)\r\n",
        "    print(\"In-order Traversal:\", nodes_tree.inorder_print())\r\n",
        "    print(\"Pre-order Traversal:\", nodes_tree.preorder_print())\r\n",
        "    print(\"Post-order Traversal:\", nodes_tree.postorder_print())\r\n",
        "    print(\"Does the search element exist in the given tree?\", nodes_tree.search(59)) \r\n",
        "    print(\"Sum =\", sum_of_elements(nodes))\r\n",
        "    print(\"Minimum =\", find_min(nodes))\r\n",
        "    print(\"Maximum =\", find_max(nodes))"
      ],
      "execution_count": null,
      "outputs": [
        {
          "output_type": "stream",
          "text": [
            "In-order Traversal: [23, 24, 33, 35, 44, 59, 66, 76, 87, 88, 92]\n",
            "Pre-order Traversal: [76, 24, 23, 35, 33, 59, 44, 66, 87, 92, 88]\n",
            "Post-order Traversal: [23, 33, 44, 66, 59, 35, 24, 88, 92, 87, 76]\n",
            "Does the search element exist in the given tree? True\n",
            "Sum = 627\n",
            "Minimum = 23\n",
            "Maximum = 92\n"
          ],
          "name": "stdout"
        }
      ]
    },
    {
      "cell_type": "markdown",
      "metadata": {
        "id": "Q87MqV1xu2Ss"
      },
      "source": [
        "\r\n",
        "5. Compare and contrast binary trees and AVL trees "
      ]
    },
    {
      "cell_type": "code",
      "metadata": {
        "colab": {
          "base_uri": "https://localhost:8080/"
        },
        "id": "7COLMV3wu7_d",
        "outputId": "565b2270-b369-4c00-a173-d8ba0a80a27b"
      },
      "source": [
        "import sys\r\n",
        " \r\n",
        "class TreeNode(object):\r\n",
        "    def __init__(self, key):\r\n",
        "        self.key = key\r\n",
        "        self.left = None\r\n",
        "        self.right = None\r\n",
        "        self.height = 1\r\n",
        " \r\n",
        " \r\n",
        "class AVLTree(object):\r\n",
        "    def insert_node(self, root, key):\r\n",
        "        if not root:\r\n",
        "            return TreeNode(key)\r\n",
        "        elif key < root.key:\r\n",
        "            root.left = self.insert_node(root.left, key)\r\n",
        "        else:\r\n",
        "            root.right = self.insert_node(root.right, key)\r\n",
        " \r\n",
        "        root.height = 1 + max(self.getHeight(root.left),\r\n",
        "                              self.getHeight(root.right))\r\n",
        "        balanceFactor = self.getBalance(root)\r\n",
        "        if balanceFactor > 1:\r\n",
        "            if key < root.left.key:\r\n",
        "                return self.rightRotate(root)\r\n",
        "            else:\r\n",
        "                root.left = self.leftRotate(root.left)\r\n",
        "                return self.rightRotate(root)\r\n",
        " \r\n",
        "        if balanceFactor < -1:\r\n",
        "            if key > root.right.key:\r\n",
        "                return self.leftRotate(root)\r\n",
        "            else:\r\n",
        "                root.right = self.rightRotate(root.right)\r\n",
        "                return self.leftRotate(root)\r\n",
        " \r\n",
        "        return root\r\n",
        "    def delete_node(self, root, key):\r\n",
        "        if not root:\r\n",
        "            return root\r\n",
        "        elif key < root.key:\r\n",
        "            root.left = self.delete_node(root.left, key)\r\n",
        "        elif key > root.key:\r\n",
        "            root.right = self.delete_node(root.right, key)\r\n",
        "        else:\r\n",
        "            if root.left is None:\r\n",
        "                temp = root.right\r\n",
        "                root = None\r\n",
        "                return temp\r\n",
        "            elif root.right is None:\r\n",
        "                temp = root.left\r\n",
        "                root = None\r\n",
        "                return temp\r\n",
        "            temp = self.getMinValueNode(root.right)\r\n",
        "            root.key = temp.key\r\n",
        "            root.right = self.delete_node(root.right,\r\n",
        "                                          temp.key)\r\n",
        "        if root is None:\r\n",
        "            return root\r\n",
        "        root.height = 1 + max(self.getHeight(root.left),\r\n",
        "                              self.getHeight(root.right))\r\n",
        " \r\n",
        "        balanceFactor = self.getBalance(root)\r\n",
        "        if balanceFactor > 1:\r\n",
        "            if self.getBalance(root.left) >= 0:\r\n",
        "                return self.rightRotate(root)\r\n",
        "            else:\r\n",
        "                root.left = self.leftRotate(root.left)\r\n",
        "                return self.rightRotate(root)\r\n",
        "        if balanceFactor < -1:\r\n",
        "            if self.getBalance(root.right) <= 0:\r\n",
        "                return self.leftRotate(root)\r\n",
        "            else:\r\n",
        "                root.right = self.rightRotate(root.right)\r\n",
        "                return self.leftRotate(root)\r\n",
        "        return root\r\n",
        "    def leftRotate(self, z):\r\n",
        "        y = z.right\r\n",
        "        T2 = y.left\r\n",
        "        y.left = z\r\n",
        "        z.right = T2\r\n",
        "        z.height = 1 + max(self.getHeight(z.left),\r\n",
        "                           self.getHeight(z.right))\r\n",
        "        y.height = 1 + max(self.getHeight(y.left),\r\n",
        "                           self.getHeight(y.right))\r\n",
        "        return y\r\n",
        "    def rightRotate(self, z):\r\n",
        "        y = z.left\r\n",
        "        T3 = y.right\r\n",
        "        y.right = z\r\n",
        "        z.left = T3\r\n",
        "        z.height = 1 + max(self.getHeight(z.left),\r\n",
        "                           self.getHeight(z.right))\r\n",
        "        y.height = 1 + max(self.getHeight(y.left),\r\n",
        "                           self.getHeight(y.right))\r\n",
        "        return y\r\n",
        "    def getHeight(self, root):\r\n",
        "        if not root:\r\n",
        "            return 0\r\n",
        "        return root.height\r\n",
        "    def getBalance(self, root):\r\n",
        "        if not root:\r\n",
        "            return 0\r\n",
        "        return self.getHeight(root.left) - self.getHeight(root.right)\r\n",
        " \r\n",
        "    def getMinValueNode(self, root):\r\n",
        "        if root is None or root.left is None:\r\n",
        "            return root\r\n",
        "        return self.getMinValueNode(root.left)\r\n",
        " \r\n",
        "    def preOrder(self, root):\r\n",
        "        if not root:\r\n",
        "            return\r\n",
        "        print(\"{0} \".format(root.key), end=\"\")\r\n",
        "        self.preOrder(root.left)\r\n",
        "        self.preOrder(root.right)\r\n",
        "    def printHelper(self, currPtr, indent, last):\r\n",
        "        if currPtr != None:\r\n",
        "            sys.stdout.write(indent)\r\n",
        "            if last:\r\n",
        "                sys.stdout.write(\"R----\")\r\n",
        "                indent += \"     \"\r\n",
        "            else:\r\n",
        "                sys.stdout.write(\"L----\")\r\n",
        "                indent += \"|    \"\r\n",
        "            print(currPtr.key)\r\n",
        "            self.printHelper(currPtr.left, indent, False)\r\n",
        "            self.printHelper(currPtr.right, indent, True)\r\n",
        " \r\n",
        " \r\n",
        "myTree = AVLTree()\r\n",
        "root = None\r\n",
        "nums = [33, 13, 52, 9, 21, 61, 8, 11]\r\n",
        "for num in nums:\r\n",
        "    root = myTree.insert_node(root, num)\r\n",
        "myTree.printHelper(root, \"\", True)\r\n",
        "key = 13\r\n",
        "root = myTree.delete_node(root, key)\r\n",
        "print(\"After Deletion: \")\r\n",
        "myTree.printHelper(root, \"\", True)"
      ],
      "execution_count": null,
      "outputs": [
        {
          "output_type": "stream",
          "text": [
            "R----33\n",
            "     L----13\n",
            "     |    L----9\n",
            "     |    |    L----8\n",
            "     |    |    R----11\n",
            "     |    R----21\n",
            "     R----52\n",
            "          R----61\n",
            "After Deletion: \n",
            "R----33\n",
            "     L----9\n",
            "     |    L----8\n",
            "     |    R----21\n",
            "     |         L----11\n",
            "     R----52\n",
            "          R----61\n"
          ],
          "name": "stdout"
        }
      ]
    }
  ]
}