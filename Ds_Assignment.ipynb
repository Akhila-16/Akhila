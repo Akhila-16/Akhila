{
  "nbformat": 4,
  "nbformat_minor": 0,
  "metadata": {
    "colab": {
      "name": "Ds Assignment",
      "provenance": [],
      "collapsed_sections": [],
      "authorship_tag": "ABX9TyOWDYn6bZIfqTNp0QxsqRaO",
      "include_colab_link": true
    },
    "kernelspec": {
      "name": "python3",
      "display_name": "Python 3"
    }
  },
  "cells": [
    {
      "cell_type": "markdown",
      "metadata": {
        "id": "view-in-github",
        "colab_type": "text"
      },
      "source": [
        "<a href=\"https://colab.research.google.com/github/Akhila-16/Akhila/blob/master/Ds_Assignment.ipynb\" target=\"_parent\"><img src=\"https://colab.research.google.com/assets/colab-badge.svg\" alt=\"Open In Colab\"/></a>"
      ]
    },
    {
      "cell_type": "markdown",
      "metadata": {
        "id": "UeGW2rbw4rUR",
        "colab_type": "text"
      },
      "source": [
        "# ***1.Write a python program to print the folowing string in a specific format.***\n",
        "Sample string: \"Twinkle ,twinkle,little star,How i wonder what you are! Up above the world so high,Like a diamond in the sky.Twinkle,little star,How i wonder what you are\". "
      ]
    },
    {
      "cell_type": "code",
      "metadata": {
        "id": "daWw8M-U6zjG",
        "colab_type": "code",
        "colab": {
          "base_uri": "https://localhost:8080/",
          "height": 118
        },
        "outputId": "83f3a726-5a23-4f10-9baa-4fc2a0496ee9"
      },
      "source": [
        "print(\"Twinkle,twinkle,little star,\\n\\tHow i wonder what you are!\\n\\t\\t Up above the worlds so high,\\n\\t\\t Like a diamond in the sky.\\nTwinkle,twinkle,little star,\\n\\tHow i wonder what you are\")"
      ],
      "execution_count": null,
      "outputs": [
        {
          "output_type": "stream",
          "text": [
            "Twinkle,twinkle,little star,\n",
            "\tHow i wonder what you are!\n",
            "\t\t Up above the worlds so high,\n",
            "\t\t Like a diamond in the sky.\n",
            "Twinkle,twinkle,little star,\n",
            "\tHow i wonder what you are\n"
          ],
          "name": "stdout"
        }
      ]
    },
    {
      "cell_type": "markdown",
      "metadata": {
        "id": "4oaXv3FhBw8T",
        "colab_type": "text"
      },
      "source": [
        "## ***2.Write a python program to test whether a number is within 100 of 1000 or 2000.***"
      ]
    },
    {
      "cell_type": "code",
      "metadata": {
        "id": "wUuboGPKCC2c",
        "colab_type": "code",
        "colab": {
          "base_uri": "https://localhost:8080/",
          "height": 84
        },
        "outputId": "5b0244ee-9283-4ee3-bcba-eed4333ac6b0"
      },
      "source": [
        "def near_thousand(x):\n",
        "  return ((abs(1000-x)<=100) or(abs(2000-x)<=100))\n",
        "print(near_thousand(1000))\n",
        "print(near_thousand(900))\n",
        "print(near_thousand(200))\n",
        "print(near_thousand(2500))\n",
        "\n"
      ],
      "execution_count": null,
      "outputs": [
        {
          "output_type": "stream",
          "text": [
            "True\n",
            "True\n",
            "False\n",
            "False\n"
          ],
          "name": "stdout"
        }
      ]
    },
    {
      "cell_type": "markdown",
      "metadata": {
        "id": "FIgsH0ESC1Wn",
        "colab_type": "text"
      },
      "source": [
        "# *3.Write a python program to calculate the sum of three given numbers,if the values are equal then return three of their sum.*"
      ]
    },
    {
      "cell_type": "code",
      "metadata": {
        "id": "YfazYqoNDHqG",
        "colab_type": "code",
        "colab": {
          "base_uri": "https://localhost:8080/",
          "height": 50
        },
        "outputId": "5127d124-66d4-4dd2-b3f3-6825e6c2730b"
      },
      "source": [
        "def sum_thrice(x,y,z):\n",
        "  sum = x + y +z\n",
        "  if x == y == z:\n",
        "    sum = sum * 3\n",
        "  return sum\n",
        "print(sum_thrice(6,3,9))\n",
        "print(sum_thrice(5,6,2))    \n"
      ],
      "execution_count": null,
      "outputs": [
        {
          "output_type": "stream",
          "text": [
            "18\n",
            "14\n"
          ],
          "name": "stdout"
        }
      ]
    },
    {
      "cell_type": "markdown",
      "metadata": {
        "id": "lrnkFOF7EdwL",
        "colab_type": "text"
      },
      "source": [
        "# 4.Write a python program to find whatever a given number(accept from the user) is even or odd ,print out an appropriate message to the user."
      ]
    },
    {
      "cell_type": "code",
      "metadata": {
        "id": "jX5N-2GdE4Ho",
        "colab_type": "code",
        "colab": {
          "base_uri": "https://localhost:8080/",
          "height": 50
        },
        "outputId": "258e57d5-4fe8-4732-c349-9f4423872da1"
      },
      "source": [
        "num = int(input(\"Enter a number:\"))\n",
        "mod = num % 2\n",
        "if mod > 0:\n",
        "  print(\"The given number is odd number\")\n",
        "else:\n",
        "  print(\"The given number is even number\")\n",
        "  "
      ],
      "execution_count": null,
      "outputs": [
        {
          "output_type": "stream",
          "text": [
            "Enter a number:9\n",
            "The given number is odd number\n"
          ],
          "name": "stdout"
        }
      ]
    },
    {
      "cell_type": "markdown",
      "metadata": {
        "id": "otu9JuWXFxP7",
        "colab_type": "text"
      },
      "source": [
        "# 5.Write a python program to get a string made of the first 2 and the last 2 chars from a given string .If the string length is less than 2,return instead of the empty string."
      ]
    },
    {
      "cell_type": "code",
      "metadata": {
        "id": "8KZnPcXxGN42",
        "colab_type": "code",
        "colab": {
          "base_uri": "https://localhost:8080/",
          "height": 84
        },
        "outputId": "caf0ab19-85f3-4150-b1d9-141e4a4c4509"
      },
      "source": [
        "def string_both_ends(str):\n",
        "  if len(str)<2:\n",
        "    return ''\n",
        "  return str[0:2] + str[-2:]\n",
        "print(string_both_ends('python'))\n",
        "print(string_both_ends('pyth'))\n",
        "print(string_both_ends('py'))\n",
        "print(string_both_ends('p'))\n",
        "\n",
        "\n"
      ],
      "execution_count": null,
      "outputs": [
        {
          "output_type": "stream",
          "text": [
            "pyon\n",
            "pyth\n",
            "pypy\n",
            "\n"
          ],
          "name": "stdout"
        }
      ]
    },
    {
      "cell_type": "markdown",
      "metadata": {
        "id": "H06C9XEoI2Fu",
        "colab_type": "text"
      },
      "source": [
        "# 6.Write a python progranm to get a single string from two given strings,separated by a space and swap the first two characters of each strings."
      ]
    },
    {
      "cell_type": "code",
      "metadata": {
        "id": "Ur5jTV6Ge2ll",
        "colab_type": "code",
        "colab": {
          "base_uri": "https://localhost:8080/",
          "height": 34
        },
        "outputId": "2f79d5ff-ca46-4165-9fae-fb5bbf13a487"
      },
      "source": [
        "def chars_mix_up(a,b):\n",
        " new_a = b[:2] + a[2:]\n",
        " new_b = a[:2] + b[2:]\n",
        "   \n",
        " return new_a  + ' '  +   new_b\n",
        "print(chars_mix_up('mam','sir'))\n"
      ],
      "execution_count": 57,
      "outputs": [
        {
          "output_type": "stream",
          "text": [
            "sim mar\n"
          ],
          "name": "stdout"
        }
      ]
    },
    {
      "cell_type": "markdown",
      "metadata": {
        "id": "1tbBtTT3V0jf",
        "colab_type": "text"
      },
      "source": [
        "# 7.Write a python program to find appearance of the substring 'not' and 'poor' from a given string,if 'not'follows the 'poor',replace the whole 'not'...'poor' substring with 'good'."
      ]
    },
    {
      "cell_type": "code",
      "metadata": {
        "id": "BB7FSs7cWX1X",
        "colab_type": "code",
        "colab": {
          "base_uri": "https://localhost:8080/",
          "height": 50
        },
        "outputId": "b906eb44-94ff-41b7-9e4b-969f1c918f22"
      },
      "source": [
        "def not_poor (str1):\n",
        "  snot = str1.find('not')\n",
        "  spoor = str1.find('poor')\n",
        "  if spoor > snot and  snot>0 and spoor>0:\n",
        "    str1  = str1.replace(str1[snot:(spoor+4)],'good')\n",
        "    return str1\n",
        "  else:\n",
        "    return str1\n",
        "print(not_poor('The lyrics is not that poor!'))\n",
        "print(not_poor('The lyrics is poor!'))"
      ],
      "execution_count": 39,
      "outputs": [
        {
          "output_type": "stream",
          "text": [
            "The lyrics is good!\n",
            "The lyrics is poor!\n"
          ],
          "name": "stdout"
        }
      ]
    },
    {
      "cell_type": "markdown",
      "metadata": {
        "id": "1gMIF_JnX2T_",
        "colab_type": "text"
      },
      "source": [
        "# 8.Write a python program to reverse a string if its length is a multiple of 4."
      ]
    },
    {
      "cell_type": "code",
      "metadata": {
        "id": "C4LUFNjQgGXm",
        "colab_type": "code",
        "colab": {
          "base_uri": "https://localhost:8080/",
          "height": 67
        },
        "outputId": "619794c6-4387-4e37-849b-0ded17329af4"
      },
      "source": [
        "def reverse_string(str1):\n",
        "  if len(str1) % 4 == 0:\n",
        "    return ''.join(reversed(str1))\n",
        "  return str1\n",
        "print(reverse_string('akhi'))\n",
        "print(reverse_string('akhila'))\n",
        "print(reverse_string('D.akhila'))\n"
      ],
      "execution_count": 58,
      "outputs": [
        {
          "output_type": "stream",
          "text": [
            "ihka\n",
            "akhila\n",
            "alihka.D\n"
          ],
          "name": "stdout"
        }
      ]
    },
    {
      "cell_type": "markdown",
      "metadata": {
        "id": "vBSjXNKrZUDz",
        "colab_type": "text"
      },
      "source": [
        "# 9.Write a python function to convert all units of time into seconds."
      ]
    },
    {
      "cell_type": "code",
      "metadata": {
        "id": "tACGrFe2ZeC0",
        "colab_type": "code",
        "colab": {
          "base_uri": "https://localhost:8080/",
          "height": 101
        },
        "outputId": "1f97ada3-fcdc-4d3a-d275-983f5910ccbb"
      },
      "source": [
        "days = int(input(\"Input days: \")) * 3600*24\n",
        "hours = int(input(\"Input hours: \")) * 3600\n",
        "minutes = int(input(\"Input minutes: \")) * 60\n",
        "seconds = int(input(\"Input seconds: \")) \n",
        "time = days + hours + minutes + seconds\n",
        "print(\"The total seconds is:\",time)"
      ],
      "execution_count": 48,
      "outputs": [
        {
          "output_type": "stream",
          "text": [
            "Input days: 15\n",
            "Input hours: 24\n",
            "Input minutes: 180\n",
            "Input seconds: 90\n",
            "The total seconds is: 1393290\n"
          ],
          "name": "stdout"
        }
      ]
    },
    {
      "cell_type": "markdown",
      "metadata": {
        "id": "CM4GnVJQayOj",
        "colab_type": "text"
      },
      "source": [
        "# 10.wite a python program to sort three integers without using conditional statements and loops."
      ]
    },
    {
      "cell_type": "code",
      "metadata": {
        "id": "ss7hYPeea-4X",
        "colab_type": "code",
        "colab": {
          "base_uri": "https://localhost:8080/",
          "height": 84
        },
        "outputId": "065a0c64-8c14-434f-adea-5dbebb730a2c"
      },
      "source": [
        "x = int(input(\"Input first number\"))\n",
        "y = int(input(\"Input second number\"))\n",
        "z = int(input(\"Input third number\"))\n",
        "a1 = min(x,y,z)\n",
        "a3 = max(x,y,z)\n",
        "a2 = (x+y+z) - a1 -a3\n",
        "print(\"Numbers in sorted order:\",a1,a2,a3)"
      ],
      "execution_count": 49,
      "outputs": [
        {
          "output_type": "stream",
          "text": [
            "Input first number5\n",
            "Input second number9\n",
            "Input third number3\n",
            "Numbers in sorted order: 3 5 9\n"
          ],
          "name": "stdout"
        }
      ]
    },
    {
      "cell_type": "markdown",
      "metadata": {
        "id": "ROQFfGijbztw",
        "colab_type": "text"
      },
      "source": [
        "# 11.Write a python program to get the details of the math module."
      ]
    },
    {
      "cell_type": "code",
      "metadata": {
        "id": "C17b713Jb_EL",
        "colab_type": "code",
        "colab": {
          "base_uri": "https://localhost:8080/",
          "height": 54
        },
        "outputId": "9392c7ce-4354-4e26-ba49-d44fbd7bd871"
      },
      "source": [
        "import math\n",
        "math_ls = dir(math)\n",
        "print(math_ls)"
      ],
      "execution_count": 50,
      "outputs": [
        {
          "output_type": "stream",
          "text": [
            "['__doc__', '__loader__', '__name__', '__package__', '__spec__', 'acos', 'acosh', 'asin', 'asinh', 'atan', 'atan2', 'atanh', 'ceil', 'copysign', 'cos', 'cosh', 'degrees', 'e', 'erf', 'erfc', 'exp', 'expm1', 'fabs', 'factorial', 'floor', 'fmod', 'frexp', 'fsum', 'gamma', 'gcd', 'hypot', 'inf', 'isclose', 'isfinite', 'isinf', 'isnan', 'ldexp', 'lgamma', 'log', 'log10', 'log1p', 'log2', 'modf', 'nan', 'pi', 'pow', 'radians', 'sin', 'sinh', 'sqrt', 'tan', 'tanh', 'tau', 'trunc']\n"
          ],
          "name": "stdout"
        }
      ]
    },
    {
      "cell_type": "markdown",
      "metadata": {
        "id": "YkTIddfIcQuH",
        "colab_type": "text"
      },
      "source": [
        "# 12.Write a python program to concatenate N strings.\n"
      ]
    },
    {
      "cell_type": "code",
      "metadata": {
        "id": "pd3ObVsHchjV",
        "colab_type": "code",
        "colab": {
          "base_uri": "https://localhost:8080/",
          "height": 50
        },
        "outputId": "e2d54b76-b74c-45df-a906-b5e574fcba1e"
      },
      "source": [
        "list_of_fruits = ['orange','apple','cherries']\n",
        "fruits= '-'.join(list_of_fruits)\n",
        "print(\"All fruits:\"+fruits)\n",
        "print()\n"
      ],
      "execution_count": 54,
      "outputs": [
        {
          "output_type": "stream",
          "text": [
            "All fruits:orange-apple-cherries\n",
            "\n"
          ],
          "name": "stdout"
        }
      ]
    }
  ]
}