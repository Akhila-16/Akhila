{
  "nbformat": 4,
  "nbformat_minor": 0,
  "metadata": {
    "colab": {
      "name": "Python assignment on july 02",
      "provenance": [],
      "authorship_tag": "ABX9TyOesS1t+bdT3zDYzWB9Y5ox",
      "include_colab_link": true
    },
    "kernelspec": {
      "name": "python3",
      "display_name": "Python 3"
    }
  },
  "cells": [
    {
      "cell_type": "markdown",
      "metadata": {
        "id": "view-in-github",
        "colab_type": "text"
      },
      "source": [
        "<a href=\"https://colab.research.google.com/github/Akhila-16/Akhila/blob/master/Python_assignment_on_july_02.ipynb\" target=\"_parent\"><img src=\"https://colab.research.google.com/assets/colab-badge.svg\" alt=\"Open In Colab\"/></a>"
      ]
    },
    {
      "cell_type": "markdown",
      "metadata": {
        "id": "b1HstiPRD570",
        "colab_type": "text"
      },
      "source": [
        "# 1.What is dictionary in python? Explain with example.\n",
        "\n",
        "Ans. \"Dictionaries are another example of a data structure\".A dictionary is used to map or associate things you want to store the keys you need to get them. In\" python dictionary are defined\" into two elements \"keys and values\".\n",
        "\n",
        "*  Keys will be a single element\n",
        "*  Values can be a list or list within a list,numbers,etc. \n",
        "\n",
        "* Dictionary is listed in curly brackets,inside these curly brackets and values are declared.  \n",
        "* Each key is separated from its value by a colon(:)\n",
        "\n",
        "* Keys are immutable and values are mutable.\n",
        "\n",
        "* The values are duplicate.\n",
        "\n",
        "\n",
        "\n",
        "\n",
        "\n",
        "\n",
        "\n",
        "\n",
        "\n",
        "\n",
        "\n",
        "\n",
        "\n",
        "\n",
        "\n"
      ]
    },
    {
      "cell_type": "code",
      "metadata": {
        "id": "f3T6VW8eItdq",
        "colab_type": "code",
        "colab": {
          "base_uri": "https://localhost:8080/",
          "height": 34
        },
        "outputId": "b9cc9785-9926-413a-efa2-b2c6fe41a0f2"
      },
      "source": [
        "d={\"a\":10,\"b\":20,\"c\":30,\"d\":40,\"e\":50}\n",
        "print(d,type(d))"
      ],
      "execution_count": 2,
      "outputs": [
        {
          "output_type": "stream",
          "text": [
            "{'a': 10, 'b': 20, 'c': 30, 'd': 40, 'e': 50} <class 'dict'>\n"
          ],
          "name": "stdout"
        }
      ]
    },
    {
      "cell_type": "markdown",
      "metadata": {
        "id": "jviRZc8FKUHA",
        "colab_type": "text"
      },
      "source": [
        "# **2.Write a python program to sum all the items in a list.**\n",
        "\n",
        "---\n",
        "\n"
      ]
    },
    {
      "cell_type": "code",
      "metadata": {
        "id": "MkdLOYIGKtn7",
        "colab_type": "code",
        "colab": {
          "base_uri": "https://localhost:8080/",
          "height": 34
        },
        "outputId": "dbf4c318-0ce2-4bf1-a902-eb97a13c09b0"
      },
      "source": [
        "list1=[10 ,12 ,15 ,20 ,25]\n",
        "sum = 0\n",
        "for i in range(0,len(list1)):\n",
        "  sum = sum + list1[i]\n",
        "print(\"Sum of all elements in a given list: \",sum)  \n",
        "\n",
        "\n"
      ],
      "execution_count": 5,
      "outputs": [
        {
          "output_type": "stream",
          "text": [
            "Sum of all elements in a given list:  82\n"
          ],
          "name": "stdout"
        }
      ]
    },
    {
      "cell_type": "markdown",
      "metadata": {
        "id": "qUIJKKioNW9u",
        "colab_type": "text"
      },
      "source": [
        "# **3.Write a python program to create a list of empty dictionaries.**"
      ]
    },
    {
      "cell_type": "code",
      "metadata": {
        "id": "BYJ5_AEcNovb",
        "colab_type": "code",
        "colab": {
          "base_uri": "https://localhost:8080/",
          "height": 34
        },
        "outputId": "c08b7420-446f-4c03-8287-5fa13d35479d"
      },
      "source": [
        "x = 3\n",
        "l = [{} for _ in range(x)]\n",
        "print(\"The list of empty dictionaries is :\",(l))"
      ],
      "execution_count": null,
      "outputs": [
        {
          "output_type": "stream",
          "text": [
            "The list of empty dictionaries is : [{}, {}, {}]\n"
          ],
          "name": "stdout"
        }
      ]
    },
    {
      "cell_type": "markdown",
      "metadata": {
        "id": "bAJfqc06Pw7f",
        "colab_type": "text"
      },
      "source": [
        "# **4.Write a python program to access dictionary keys element by index.**"
      ]
    },
    {
      "cell_type": "code",
      "metadata": {
        "id": "VvYXm0_4QOX_",
        "colab_type": "code",
        "colab": {
          "base_uri": "https://localhost:8080/",
          "height": 118
        },
        "outputId": "77f36b19-1e31-47c4-e83e-d5fd88753eff"
      },
      "source": [
        "d={\"a\":10,\"b\":20,\"c\":30,\"d\":40,\"e\":50}\n",
        "print(\"dict key-values are:\")\n",
        "for i in d:\n",
        "  print(i,d[i])"
      ],
      "execution_count": 7,
      "outputs": [
        {
          "output_type": "stream",
          "text": [
            "dict key-values are:\n",
            "a 10\n",
            "b 20\n",
            "c 30\n",
            "d 40\n",
            "e 50\n"
          ],
          "name": "stdout"
        }
      ]
    },
    {
      "cell_type": "markdown",
      "metadata": {
        "id": "966alwmVS2Sd",
        "colab_type": "text"
      },
      "source": [
        "# **5.Write a python program to iterate over dictionaries using for loops.**"
      ]
    },
    {
      "cell_type": "code",
      "metadata": {
        "id": "QNfwf7xGTHR_",
        "colab_type": "code",
        "colab": {
          "base_uri": "https://localhost:8080/",
          "height": 67
        },
        "outputId": "85605335-6822-412e-da8f-32d32aa02f24"
      },
      "source": [
        "d1={'physics': 90,'chemistry': 95,'maths': 97}\n",
        "for a,b  in d1.items():\n",
        "  print(a,b)"
      ],
      "execution_count": 9,
      "outputs": [
        {
          "output_type": "stream",
          "text": [
            "physics 90\n",
            "chemistry 95\n",
            "maths 97\n"
          ],
          "name": "stdout"
        }
      ]
    },
    {
      "cell_type": "markdown",
      "metadata": {
        "id": "MrfToSaIWRyG",
        "colab_type": "text"
      },
      "source": [
        "# **6.Write a python program to sum all the items in a dictionary.**"
      ]
    },
    {
      "cell_type": "code",
      "metadata": {
        "id": "CZsouayFWdmC",
        "colab_type": "code",
        "colab": {
          "base_uri": "https://localhost:8080/",
          "height": 34
        },
        "outputId": "bf151201-9206-4339-c6bb-dc3e3cf23f71"
      },
      "source": [
        "d={'A':150,'B':349,'C':470}\n",
        "sum=0\n",
        "for i,value in d.items():\n",
        "  sum=sum+d[i]\n",
        "print(\"The sum of all the items in a dictionary:\",+sum)  \n"
      ],
      "execution_count": 11,
      "outputs": [
        {
          "output_type": "stream",
          "text": [
            "The sum of all the items in a dictionary: 969\n"
          ],
          "name": "stdout"
        }
      ]
    },
    {
      "cell_type": "markdown",
      "metadata": {
        "id": "KqEjZCS3Z302",
        "colab_type": "text"
      },
      "source": [
        "# **7.Write a python script to concatenate following dictionaries to create a new one**."
      ]
    },
    {
      "cell_type": "code",
      "metadata": {
        "id": "0dkNnor6aGPf",
        "colab_type": "code",
        "colab": {
          "base_uri": "https://localhost:8080/",
          "height": 34
        },
        "outputId": "2d5975b9-8e94-4e3c-b8b3-133ca61573bc"
      },
      "source": [
        "dict1={1:10,2:20}\n",
        "dict2={3:30,4:40}\n",
        "dict3={5:50,6:60}\n",
        "dict4={}\n",
        "for d in (dict1 ,dict2 , dict3): dict4.update(d)\n",
        "print(dict4)"
      ],
      "execution_count": 12,
      "outputs": [
        {
          "output_type": "stream",
          "text": [
            "{1: 10, 2: 20, 3: 30, 4: 40, 5: 50, 6: 60}\n"
          ],
          "name": "stdout"
        }
      ]
    }
  ]
}