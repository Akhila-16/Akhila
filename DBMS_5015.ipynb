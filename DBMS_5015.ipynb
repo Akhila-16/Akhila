{
  "nbformat": 4,
  "nbformat_minor": 0,
  "metadata": {
    "colab": {
      "name": "DBMS_5015.ipynb",
      "provenance": [],
      "authorship_tag": "ABX9TyMD77/WzHLsa7YLUI2aCfns",
      "include_colab_link": true
    },
    "kernelspec": {
      "name": "python3",
      "display_name": "Python 3"
    },
    "language_info": {
      "name": "python"
    }
  },
  "cells": [
    {
      "cell_type": "markdown",
      "metadata": {
        "id": "view-in-github",
        "colab_type": "text"
      },
      "source": [
        "<a href=\"https://colab.research.google.com/github/Akhila-16/Akhila/blob/master/DBMS_5015.ipynb\" target=\"_parent\"><img src=\"https://colab.research.google.com/assets/colab-badge.svg\" alt=\"Open In Colab\"/></a>"
      ]
    },
    {
      "cell_type": "code",
      "metadata": {
        "id": "aVu0EMo5Uoa9"
      },
      "source": [
        "import pandas as pd\n",
        "import random\n",
        "import statistics\n",
        "df = pd.read_excel(\"VsemEsectionList.xlsx\")"
      ],
      "execution_count": 1,
      "outputs": []
    },
    {
      "cell_type": "code",
      "metadata": {
        "colab": {
          "base_uri": "https://localhost:8080/"
        },
        "id": "6pPZjhfZVZZb",
        "outputId": "46cd41b3-146c-4fd9-c476-cbf031484388"
      },
      "source": [
        "se=list(df[\"IV Sem E Section Roll List\"])\n",
        "print(se)"
      ],
      "execution_count": 2,
      "outputs": [
        {
          "output_type": "stream",
          "text": [
            "['Sl. No.', 1, 2, 3, 4, 5, 6, 7, 8, 9, 10, 11, 12, 13, 14, 15, 16, 17, 18, 19, 20, 21, 22, 23, 24, 25, 26, 27, 28, 29, 30, 31, 32, 33, 34, 35, 36, 37, 38, 39, 40, 41, 42, 43, 44, 45, 46, 47, 48, 49, 50, 51, 52, 53, 54, 55, 56, 57, 58, 59, 60, nan, nan, nan, nan]\n"
          ],
          "name": "stdout"
        }
      ]
    },
    {
      "cell_type": "code",
      "metadata": {
        "colab": {
          "base_uri": "https://localhost:8080/"
        },
        "id": "OyURG0Q_Vbwd",
        "outputId": "b3df019b-0e24-41d5-dcda-1eaf21f333db"
      },
      "source": [
        "* 1.\tStore the data of students of your class as on the start date of the semester -  roll number of student, name of student, age of student\n",
        "ages=[]\n",
        "for l in range(0,len(se)):\n",
        "    age=[\"19\",\"20\"]\n",
        "    a=random.randrange(18,21)\n",
        "    ages.append(a)\n",
        "df[\"ages\"]=ages\n",
        "print(df)"
      ],
      "execution_count": 3,
      "outputs": [
        {
          "output_type": "stream",
          "text": [
            "   IV Sem E Section Roll List    Unnamed: 1              Unnamed: 2  ages\n",
            "0                     Sl. No.   Roll Number            Student Name    20\n",
            "1                           1  321910305001    PUDURU VAMSI KRISHNA    20\n",
            "2                           2  321910305002         DHARANI SRINIJA    18\n",
            "3                           3  321910305003     MUTTINENI AISHWARYA    18\n",
            "4                           4  321910305004   NAGIREDDY JEEVANREDDY    18\n",
            "..                        ...           ...                     ...   ...\n",
            "60                         60  321910305061  SAVARAPU JASPER PRINCE    19\n",
            "61                        NaN           NaN                     NaN    20\n",
            "62                        NaN          Boys                     NaN    20\n",
            "63                        NaN         Girls                     NaN    20\n",
            "64                        NaN         Total                     NaN    18\n",
            "\n",
            "[65 rows x 4 columns]\n"
          ],
          "name": "stdout"
        }
      ]
    },
    {
      "cell_type": "code",
      "metadata": {
        "colab": {
          "base_uri": "https://localhost:8080/"
        },
        "id": "n2-ROselVo5O",
        "outputId": "42473df4-39a9-40db-a75f-eee4dc539bd6"
      },
      "source": [
        "lgroup=[]\n",
        "for j in range(0,len(se)):\n",
        "    group=[\"cse\",\"ece\",\"civil\"]\n",
        "    groups=random.choice(group)\n",
        "    lgroup.append(groups)\n",
        "df[\"branch\"]=lgroup\n",
        "print(df)"
      ],
      "execution_count": 4,
      "outputs": [
        {
          "output_type": "stream",
          "text": [
            "   IV Sem E Section Roll List    Unnamed: 1  ... ages  branch\n",
            "0                     Sl. No.   Roll Number  ...   20   civil\n",
            "1                           1  321910305001  ...   20   civil\n",
            "2                           2  321910305002  ...   18     cse\n",
            "3                           3  321910305003  ...   18   civil\n",
            "4                           4  321910305004  ...   18     ece\n",
            "..                        ...           ...  ...  ...     ...\n",
            "60                         60  321910305061  ...   19   civil\n",
            "61                        NaN           NaN  ...   20     ece\n",
            "62                        NaN          Boys  ...   20     cse\n",
            "63                        NaN         Girls  ...   20     ece\n",
            "64                        NaN         Total  ...   18   civil\n",
            "\n",
            "[65 rows x 5 columns]\n"
          ],
          "name": "stdout"
        }
      ]
    },
    {
      "cell_type": "code",
      "metadata": {
        "colab": {
          "base_uri": "https://localhost:8080/"
        },
        "id": "845czx2DVsgI",
        "outputId": "41de0305-0600-483b-c7cc-5286e7c7a3c3"
      },
      "source": [
        "dates=[]\n",
        "for k in range(0,len(se)):\n",
        "    date=[\"22/07/2021\",\"23/07/2021\"]\n",
        "    date1=random.choice(date)\n",
        "    dates.append(date1)\n",
        "df[\"dates\"]=dates\n",
        "print(df)"
      ],
      "execution_count": 5,
      "outputs": [
        {
          "output_type": "stream",
          "text": [
            "   IV Sem E Section Roll List    Unnamed: 1  ... branch       dates\n",
            "0                     Sl. No.   Roll Number  ...  civil  23/07/2021\n",
            "1                           1  321910305001  ...  civil  22/07/2021\n",
            "2                           2  321910305002  ...    cse  23/07/2021\n",
            "3                           3  321910305003  ...  civil  23/07/2021\n",
            "4                           4  321910305004  ...    ece  23/07/2021\n",
            "..                        ...           ...  ...    ...         ...\n",
            "60                         60  321910305061  ...  civil  23/07/2021\n",
            "61                        NaN           NaN  ...    ece  23/07/2021\n",
            "62                        NaN          Boys  ...    cse  22/07/2021\n",
            "63                        NaN         Girls  ...    ece  22/07/2021\n",
            "64                        NaN         Total  ...  civil  22/07/2021\n",
            "\n",
            "[65 rows x 6 columns]\n"
          ],
          "name": "stdout"
        }
      ]
    },
    {
      "cell_type": "code",
      "metadata": {
        "colab": {
          "base_uri": "https://localhost:8080/"
        },
        "id": "WUyksKdsVw76",
        "outputId": "68bb0784-cb21-4d87-e15b-a2e03ad22f99"
      },
      "source": [
        "* 2.\tAdd the students who joined later till date\n",
        "list1=[]\n",
        "for add in range(0,len(se)):\n",
        "    if df[\"dates\"][add]!=\"22/07/2021\":\n",
        "        list1.append(df[\"Unnamed: 2\"][add])\n",
        "print(\"The people to be added are\",len(list1))\n",
        "print(\"The people are\",list1)"
      ],
      "execution_count": 6,
      "outputs": [
        {
          "output_type": "stream",
          "text": [
            "The people to be added are 41\n",
            "The people are ['Student Name', 'DHARANI SRINIJA', 'MUTTINENI AISHWARYA', 'NAGIREDDY JEEVANREDDY', 'SANKEPALLI CHENNA SANDEEP REDDY', 'BYALLA CHANDRA SEKHER', 'SHAIK KHAJA KAIF AZAM', 'ANIMALA VENKATA SAI VIDYA', 'GUTTIKONDA NIKHITHA', 'BOMMA SREE LAKSHMI', 'DUGGINENI AKHILA CHOWDARY', 'THATHEKALVA OMPRAKASH REDDY', 'POTHURU SAI HEMANTH', 'ARUN KUMAR M', 'LAYA T', 'POORNIMA D S', 'KUDUMULA MULAMMAGARI VENKATESWARA REDDY', 'KURAPATI JAYA SAI KRISHNA', 'ARIEF B', 'KONETI GOPAL MAHITH VARMA', 'PEDDIREDDY SASI KUMAR', 'VALLIVEDU LOHITH', 'YELLICHERLA LOKESWAR REDDY', 'NAKHEEB SAMEER', 'BATHULA BHARATH KUMAR GOWD', 'KURABA DINESH', 'VANNELA PAVAN KALYAN', 'BUSALA CHARAN SRI TEJA', 'ANIL KUMAR B R', 'GOUTHAMI D', 'LOKA SURYA TEJESWARA REDDY', 'KAMMARI CHARITHA', 'SHRAVAN S', 'KOGILATHOTA AISWARYA', 'KARRI SATHVIKA', 'RAHUL K', 'K SAI GANESH', 'VARSHINI V', 'AKSHAY Y P', 'SAVARAPU JASPER PRINCE', nan]\n"
          ],
          "name": "stdout"
        }
      ]
    },
    {
      "cell_type": "code",
      "metadata": {
        "colab": {
          "base_uri": "https://localhost:8080/"
        },
        "id": "9Sxaf6JvV0lk",
        "outputId": "63d3e666-504e-46a1-c914-1a407f3ebe29"
      },
      "source": [
        "*3.\tDelete the students who shifted to other branches\n",
        "list2=[]\n",
        "for dele in range(0,len(se)):\n",
        "    if df[\"branch\"][dele]!=\"cse\":\n",
        "        list2.append(dele)\n",
        "print(list2)\n",
        "del list2"
      ],
      "execution_count": 7,
      "outputs": [
        {
          "output_type": "stream",
          "text": [
            "[0, 1, 3, 4, 5, 7, 9, 10, 11, 12, 14, 15, 16, 17, 18, 21, 25, 28, 29, 31, 32, 33, 34, 35, 36, 37, 38, 39, 40, 41, 43, 44, 46, 49, 50, 51, 52, 53, 55, 57, 59, 60, 61, 63, 64]\n"
          ],
          "name": "stdout"
        }
      ]
    },
    {
      "cell_type": "code",
      "metadata": {
        "colab": {
          "base_uri": "https://localhost:8080/",
          "height": 417
        },
        "id": "07AsZjw8V3xj",
        "outputId": "773b8eca-32f6-45aa-d907-26a21ea95123"
      },
      "source": [
        "df"
      ],
      "execution_count": 8,
      "outputs": [
        {
          "output_type": "execute_result",
          "data": {
            "text/html": [
              "<div>\n",
              "<style scoped>\n",
              "    .dataframe tbody tr th:only-of-type {\n",
              "        vertical-align: middle;\n",
              "    }\n",
              "\n",
              "    .dataframe tbody tr th {\n",
              "        vertical-align: top;\n",
              "    }\n",
              "\n",
              "    .dataframe thead th {\n",
              "        text-align: right;\n",
              "    }\n",
              "</style>\n",
              "<table border=\"1\" class=\"dataframe\">\n",
              "  <thead>\n",
              "    <tr style=\"text-align: right;\">\n",
              "      <th></th>\n",
              "      <th>IV Sem E Section Roll List</th>\n",
              "      <th>Unnamed: 1</th>\n",
              "      <th>Unnamed: 2</th>\n",
              "      <th>ages</th>\n",
              "      <th>branch</th>\n",
              "      <th>dates</th>\n",
              "    </tr>\n",
              "  </thead>\n",
              "  <tbody>\n",
              "    <tr>\n",
              "      <th>0</th>\n",
              "      <td>Sl. No.</td>\n",
              "      <td>Roll Number</td>\n",
              "      <td>Student Name</td>\n",
              "      <td>20</td>\n",
              "      <td>civil</td>\n",
              "      <td>23/07/2021</td>\n",
              "    </tr>\n",
              "    <tr>\n",
              "      <th>1</th>\n",
              "      <td>1</td>\n",
              "      <td>321910305001</td>\n",
              "      <td>PUDURU VAMSI KRISHNA</td>\n",
              "      <td>20</td>\n",
              "      <td>civil</td>\n",
              "      <td>22/07/2021</td>\n",
              "    </tr>\n",
              "    <tr>\n",
              "      <th>2</th>\n",
              "      <td>2</td>\n",
              "      <td>321910305002</td>\n",
              "      <td>DHARANI SRINIJA</td>\n",
              "      <td>18</td>\n",
              "      <td>cse</td>\n",
              "      <td>23/07/2021</td>\n",
              "    </tr>\n",
              "    <tr>\n",
              "      <th>3</th>\n",
              "      <td>3</td>\n",
              "      <td>321910305003</td>\n",
              "      <td>MUTTINENI AISHWARYA</td>\n",
              "      <td>18</td>\n",
              "      <td>civil</td>\n",
              "      <td>23/07/2021</td>\n",
              "    </tr>\n",
              "    <tr>\n",
              "      <th>4</th>\n",
              "      <td>4</td>\n",
              "      <td>321910305004</td>\n",
              "      <td>NAGIREDDY JEEVANREDDY</td>\n",
              "      <td>18</td>\n",
              "      <td>ece</td>\n",
              "      <td>23/07/2021</td>\n",
              "    </tr>\n",
              "    <tr>\n",
              "      <th>...</th>\n",
              "      <td>...</td>\n",
              "      <td>...</td>\n",
              "      <td>...</td>\n",
              "      <td>...</td>\n",
              "      <td>...</td>\n",
              "      <td>...</td>\n",
              "    </tr>\n",
              "    <tr>\n",
              "      <th>60</th>\n",
              "      <td>60</td>\n",
              "      <td>321910305061</td>\n",
              "      <td>SAVARAPU JASPER PRINCE</td>\n",
              "      <td>19</td>\n",
              "      <td>civil</td>\n",
              "      <td>23/07/2021</td>\n",
              "    </tr>\n",
              "    <tr>\n",
              "      <th>61</th>\n",
              "      <td>NaN</td>\n",
              "      <td>NaN</td>\n",
              "      <td>NaN</td>\n",
              "      <td>20</td>\n",
              "      <td>ece</td>\n",
              "      <td>23/07/2021</td>\n",
              "    </tr>\n",
              "    <tr>\n",
              "      <th>62</th>\n",
              "      <td>NaN</td>\n",
              "      <td>Boys</td>\n",
              "      <td>NaN</td>\n",
              "      <td>20</td>\n",
              "      <td>cse</td>\n",
              "      <td>22/07/2021</td>\n",
              "    </tr>\n",
              "    <tr>\n",
              "      <th>63</th>\n",
              "      <td>NaN</td>\n",
              "      <td>Girls</td>\n",
              "      <td>NaN</td>\n",
              "      <td>20</td>\n",
              "      <td>ece</td>\n",
              "      <td>22/07/2021</td>\n",
              "    </tr>\n",
              "    <tr>\n",
              "      <th>64</th>\n",
              "      <td>NaN</td>\n",
              "      <td>Total</td>\n",
              "      <td>NaN</td>\n",
              "      <td>18</td>\n",
              "      <td>civil</td>\n",
              "      <td>22/07/2021</td>\n",
              "    </tr>\n",
              "  </tbody>\n",
              "</table>\n",
              "<p>65 rows × 6 columns</p>\n",
              "</div>"
            ],
            "text/plain": [
              "   IV Sem E Section Roll List    Unnamed: 1  ... branch       dates\n",
              "0                     Sl. No.   Roll Number  ...  civil  23/07/2021\n",
              "1                           1  321910305001  ...  civil  22/07/2021\n",
              "2                           2  321910305002  ...    cse  23/07/2021\n",
              "3                           3  321910305003  ...  civil  23/07/2021\n",
              "4                           4  321910305004  ...    ece  23/07/2021\n",
              "..                        ...           ...  ...    ...         ...\n",
              "60                         60  321910305061  ...  civil  23/07/2021\n",
              "61                        NaN           NaN  ...    ece  23/07/2021\n",
              "62                        NaN          Boys  ...    cse  22/07/2021\n",
              "63                        NaN         Girls  ...    ece  22/07/2021\n",
              "64                        NaN         Total  ...  civil  22/07/2021\n",
              "\n",
              "[65 rows x 6 columns]"
            ]
          },
          "metadata": {
            "tags": []
          },
          "execution_count": 8
        }
      ]
    },
    {
      "cell_type": "code",
      "metadata": {
        "colab": {
          "base_uri": "https://localhost:8080/"
        },
        "id": "ZRFSv1NoWLA0",
        "outputId": "61e26d5e-0468-46ea-e87f-1c99032cd7e5"
      },
      "source": [
        "*4.\tFind who is the youngest in the Class\n",
        "for y in range(1,len(se)):\n",
        "    if df[\"ages\"][y]==18:\n",
        "        print(\"These are youngest students in the class\",df[\"Unnamed: 2\"][y])"
      ],
      "execution_count": 9,
      "outputs": [
        {
          "output_type": "stream",
          "text": [
            "These are youngest students in the class DHARANI SRINIJA\n",
            "These are youngest students in the class MUTTINENI AISHWARYA\n",
            "These are youngest students in the class NAGIREDDY JEEVANREDDY\n",
            "These are youngest students in the class NAVNEETH N\n",
            "These are youngest students in the class BYALLA CHANDRA SEKHER\n",
            "These are youngest students in the class ANIMALA VENKATA SAI VIDYA\n",
            "These are youngest students in the class GUTTIKONDA NIKHITHA\n",
            "These are youngest students in the class RAJAVARI THANUJA\n",
            "These are youngest students in the class THATHEKALVA OMPRAKASH REDDY\n",
            "These are youngest students in the class POTHURU SAI HEMANTH\n",
            "These are youngest students in the class C REVANTH REDDY\n",
            "These are youngest students in the class ARIEF B\n",
            "These are youngest students in the class PEDDIREDDY SASI KUMAR\n",
            "These are youngest students in the class VALLIVEDU LOHITH\n",
            "These are youngest students in the class DEVIREDDY REETHU SREE\n",
            "These are youngest students in the class GANGIMENI POLAPPA\n",
            "These are youngest students in the class BHUVAN A L\n",
            "These are youngest students in the class LOKA SURYA TEJESWARA REDDY\n",
            "These are youngest students in the class RAHUL K\n",
            "These are youngest students in the class AKSHAY Y P\n",
            "These are youngest students in the class nan\n"
          ],
          "name": "stdout"
        }
      ]
    },
    {
      "cell_type": "code",
      "metadata": {
        "colab": {
          "base_uri": "https://localhost:8080/"
        },
        "id": "9wOMpeTfWicl",
        "outputId": "1d4db3af-970c-418a-e2da-4f5adc3bf090"
      },
      "source": [
        "*5.\tFind who is the eldest in the class\n",
        "for e in range(0,len(se)):\n",
        "    if df[\"ages\"][e]==20:\n",
        "        print(\"These are eldest students in the class\",df[\"Unnamed: 2\"][e])"
      ],
      "execution_count": 10,
      "outputs": [
        {
          "output_type": "stream",
          "text": [
            "These are eldest students in the class Student Name\n",
            "These are eldest students in the class PUDURU VAMSI KRISHNA\n",
            "These are eldest students in the class BOMMA SREE LAKSHMI\n",
            "These are eldest students in the class JALADHI SAI VARSHINI\n",
            "These are eldest students in the class RAMIREDDY MAHIDHAR REDDY\n",
            "These are eldest students in the class POORNIMA D S\n",
            "These are eldest students in the class KUDUMULA MULAMMAGARI VENKATESWARA REDDY\n",
            "These are eldest students in the class KURAPATI JAYA SAI KRISHNA\n",
            "These are eldest students in the class GODDUMARRI OBULA RAJA\n",
            "These are eldest students in the class YELLICHERLA LOKESWAR REDDY\n",
            "These are eldest students in the class NAKHEEB SAMEER\n",
            "These are eldest students in the class KURABA DINESH\n",
            "These are eldest students in the class CHEDELLA SUBRAMANYESWAR\n",
            "These are eldest students in the class CHAKKA VENKATA DINESH\n",
            "These are eldest students in the class MIDDI SREEDEVI\n",
            "These are eldest students in the class RAKESH REDDY\n",
            "These are eldest students in the class BUSALA CHARAN SRI TEJA\n",
            "These are eldest students in the class RAMYA G\n",
            "These are eldest students in the class KARRI SATHVIKA\n",
            "These are eldest students in the class BHOOMIKA H K\n",
            "These are eldest students in the class VARSHINI V\n",
            "These are eldest students in the class nan\n",
            "These are eldest students in the class nan\n",
            "These are eldest students in the class nan\n"
          ],
          "name": "stdout"
        }
      ]
    },
    {
      "cell_type": "code",
      "metadata": {
        "colab": {
          "base_uri": "https://localhost:8080/"
        },
        "id": "7toY76ciWqYZ",
        "outputId": "142ecd3b-4f54-4cfa-88a4-d5781cdc8b35"
      },
      "source": [
        "* 6.\tFind the average age of the class\n",
        "sum=0\n",
        "for i in range(0,len(se)):\n",
        "    sum=sum+int(df[\"ages\"][i])\n",
        "print(\"The average of the class is\",sum//len(se))"
      ],
      "execution_count": 12,
      "outputs": [
        {
          "output_type": "stream",
          "text": [
            "The average of the class is 19\n"
          ],
          "name": "stdout"
        }
      ]
    },
    {
      "cell_type": "code",
      "metadata": {
        "colab": {
          "base_uri": "https://localhost:8080/"
        },
        "id": "Si3l2mbRWtja",
        "outputId": "87a1442d-a59f-45ce-b41b-ecb2c3ed5479"
      },
      "source": [
        "*7.\tFind the median age of the class\n",
        "for k in range(0,len(se)):\n",
        "    median= statistics.median(df[\"ages\"])\n",
        "    print(median)\n",
        "    break"
      ],
      "execution_count": 13,
      "outputs": [
        {
          "output_type": "stream",
          "text": [
            "19\n"
          ],
          "name": "stdout"
        }
      ]
    },
    {
      "cell_type": "code",
      "metadata": {
        "id": "UvYNIMTvWwCe"
      },
      "source": [
        ""
      ],
      "execution_count": null,
      "outputs": []
    }
  ]
}