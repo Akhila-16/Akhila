{
  "nbformat": 4,
  "nbformat_minor": 0,
  "metadata": {
    "colab": {
      "name": "My python assignment 0n June 18",
      "provenance": [],
      "authorship_tag": "ABX9TyMHmXcvslbLPnJiH6bv7LOM",
      "include_colab_link": true
    },
    "kernelspec": {
      "name": "python3",
      "display_name": "Python 3"
    }
  },
  "cells": [
    {
      "cell_type": "markdown",
      "metadata": {
        "id": "view-in-github",
        "colab_type": "text"
      },
      "source": [
        "<a href=\"https://colab.research.google.com/github/Akhila-16/Akhila/blob/master/My_python_assignment_0n_June_18.ipynb\" target=\"_parent\"><img src=\"https://colab.research.google.com/assets/colab-badge.svg\" alt=\"Open In Colab\"/></a>"
      ]
    },
    {
      "cell_type": "code",
      "metadata": {
        "id": "hfv-B9eX3nem",
        "colab_type": "code",
        "colab": {}
      },
      "source": [
        ""
      ],
      "execution_count": null,
      "outputs": []
    },
    {
      "cell_type": "markdown",
      "metadata": {
        "id": "TCxicsoSCMfq",
        "colab_type": "text"
      },
      "source": [
        "1.write a program to design simple calculator for operators."
      ]
    },
    {
      "cell_type": "code",
      "metadata": {
        "id": "3CrGD4yHCbwb",
        "colab_type": "code",
        "colab": {
          "base_uri": "https://localhost:8080/",
          "height": 89
        },
        "outputId": "5f3d10e3-35f5-4c67-a351-9bc729b2fcb5"
      },
      "source": [
        "a=int(input()) \n",
        "b=int(input())\n",
        "print(a+b, a-b, a**b, a/b, a//b, a%b)"
      ],
      "execution_count": null,
      "outputs": [
        {
          "output_type": "stream",
          "text": [
            "5\n",
            "9\n",
            "14 -4 1953125 0.5555555555555556 0 5\n"
          ],
          "name": "stdout"
        }
      ]
    },
    {
      "cell_type": "markdown",
      "metadata": {
        "id": "gCJNPt3-5i8H",
        "colab_type": "text"
      },
      "source": [
        "2.write a python program to calculate the simple interest."
      ]
    },
    {
      "cell_type": "code",
      "metadata": {
        "id": "5LUCXDfD5ve3",
        "colab_type": "code",
        "colab": {
          "base_uri": "https://localhost:8080/",
          "height": 34
        },
        "outputId": "9e62d76b-b07b-4fd7-b80f-c12481b56d57"
      },
      "source": [
        "P=900\n",
        "T=5 \n",
        "R=3\n",
        "SI=(P*T*R)/100\n",
        "print(\"simple interest is\", SI)"
      ],
      "execution_count": null,
      "outputs": [
        {
          "output_type": "stream",
          "text": [
            "simple interest is 135.0\n"
          ],
          "name": "stdout"
        }
      ]
    },
    {
      "cell_type": "markdown",
      "metadata": {
        "id": "P7nttN9V5h5-",
        "colab_type": "text"
      },
      "source": [
        ""
      ]
    },
    {
      "cell_type": "markdown",
      "metadata": {
        "id": "Sd-nzIn56hzJ",
        "colab_type": "text"
      },
      "source": [
        "3.write a python program to calculate area of circle."
      ]
    },
    {
      "cell_type": "code",
      "metadata": {
        "id": "Fh-N7Y076zWQ",
        "colab_type": "code",
        "colab": {
          "base_uri": "https://localhost:8080/",
          "height": 51
        },
        "outputId": "1c736ee2-78a1-4fed-8e53-d2e0d75e3b9d"
      },
      "source": [
        "r=\"radius\" \n",
        "r=int(input(\"Enter the value of r:\")) \n",
        "print(\" Area of the circle is\",3.14*r**2)"
      ],
      "execution_count": null,
      "outputs": [
        {
          "output_type": "stream",
          "text": [
            "Enter the value of r:5\n",
            " Area of the circle is 78.5\n"
          ],
          "name": "stdout"
        }
      ]
    },
    {
      "cell_type": "markdown",
      "metadata": {
        "id": "c0Q1fkg-CJ_M",
        "colab_type": "text"
      },
      "source": [
        ""
      ]
    },
    {
      "cell_type": "markdown",
      "metadata": {
        "id": "rL_8uhQrDYgi",
        "colab_type": "text"
      },
      "source": [
        "4.write a python program to calculate the area of triangle."
      ]
    },
    {
      "cell_type": "code",
      "metadata": {
        "id": "5TeQg8BXEkv-",
        "colab_type": "code",
        "colab": {
          "base_uri": "https://localhost:8080/",
          "height": 69
        },
        "outputId": "290c7c7e-7e7d-4414-bea3-dc915c80d57d"
      },
      "source": [
        "b=\"breadth\"\n",
        "l=\"length\"\n",
        "b=int(input(\"Enter the value of b\"))\n",
        "l=int(input(\"Enter the value of l\")) \n",
        "print(\"Area of triangle is\",0.5*b*l)"
      ],
      "execution_count": null,
      "outputs": [
        {
          "output_type": "stream",
          "text": [
            "Enter the value of b3\n",
            "Enter the value of l7\n",
            "Area of triangle is 10.5\n"
          ],
          "name": "stdout"
        }
      ]
    },
    {
      "cell_type": "markdown",
      "metadata": {
        "id": "HJ7cSXhfCLEs",
        "colab_type": "text"
      },
      "source": [
        "5.write a program to temperature in Celsius to Fahrenheit."
      ]
    },
    {
      "cell_type": "code",
      "metadata": {
        "id": "d5KtAB5OIyap",
        "colab_type": "code",
        "colab": {
          "base_uri": "https://localhost:8080/",
          "height": 51
        },
        "outputId": "a1ee78e4-e1a7-447a-ad2c-2e63005006d9"
      },
      "source": [
        "c=\"celsius temperature\"\n",
        "c=float(input(\"Enter the value of C\"))\n",
        "fahrenheit=(1.8*c+32)\n",
        "print(\"celsius to fahrenheit is\", fahrenheit)"
      ],
      "execution_count": null,
      "outputs": [
        {
          "output_type": "stream",
          "text": [
            "Enter the value of C36.5\n",
            "celsius to fahrenheit is 97.7\n"
          ],
          "name": "stdout"
        }
      ]
    },
    {
      "cell_type": "markdown",
      "metadata": {
        "id": "3l2gPNBuP6Ej",
        "colab_type": "text"
      },
      "source": [
        "6.write a python program to calculate the area of rectangle."
      ]
    },
    {
      "cell_type": "code",
      "metadata": {
        "id": "Ie9hoTflQIGy",
        "colab_type": "code",
        "colab": {
          "base_uri": "https://localhost:8080/",
          "height": 69
        },
        "outputId": "f4cb32bc-5f60-4829-df93-628b56ad8f1f"
      },
      "source": [
        "l=\"length\"\n",
        "b=\"breadth\" \n",
        "l=int(input(\"Enter the value of l\")) \n",
        "b=int(input(\"Enter the value of b\")) \n",
        "print(\"Area of rectangle\", l*b)"
      ],
      "execution_count": null,
      "outputs": [
        {
          "output_type": "stream",
          "text": [
            "Enter the value of l9\n",
            "Enter the value of b5\n",
            "Area of rectangle 45\n"
          ],
          "name": "stdout"
        }
      ]
    },
    {
      "cell_type": "markdown",
      "metadata": {
        "id": "gw3uAvQ3Qyn2",
        "colab_type": "text"
      },
      "source": [
        "7.write a python program to calculate the perimeter of a square."
      ]
    },
    {
      "cell_type": "code",
      "metadata": {
        "id": "Dt83l5TtRBe3",
        "colab_type": "code",
        "colab": {
          "base_uri": "https://localhost:8080/",
          "height": 51
        },
        "outputId": "928df1a9-63ff-43dc-ab97-3f5c4cf9fe7f"
      },
      "source": [
        "a=\"side of square\"\n",
        "a=int(input(\"Enter the value of a\"))\n",
        "print(\"perimeter of a square\", 4*a)"
      ],
      "execution_count": null,
      "outputs": [
        {
          "output_type": "stream",
          "text": [
            "Enter the value of a15\n",
            "perimeter of a square 60\n"
          ],
          "name": "stdout"
        }
      ]
    },
    {
      "cell_type": "markdown",
      "metadata": {
        "id": "smwZLVZ-Rb0V",
        "colab_type": "text"
      },
      "source": [
        " 8.write a python program to calculate the circumference of a circle."
      ]
    },
    {
      "cell_type": "code",
      "metadata": {
        "id": "xpnwI-owRjHa",
        "colab_type": "code",
        "colab": {
          "base_uri": "https://localhost:8080/",
          "height": 51
        },
        "outputId": "8e451d4f-7f4f-4099-dc48-8932fe236239"
      },
      "source": [
        "r=\"radius of circle\"\n",
        "r=int(input(\"Enter the value of r\")) \n",
        "print(\"circumference of a circle\", 2*3.14*r)"
      ],
      "execution_count": null,
      "outputs": [
        {
          "output_type": "stream",
          "text": [
            "Enter the value of r3\n",
            "circumference of a circle 18.84\n"
          ],
          "name": "stdout"
        }
      ]
    },
    {
      "cell_type": "markdown",
      "metadata": {
        "id": "BtqeVQiZSCdH",
        "colab_type": "text"
      },
      "source": [
        "9.write a python program to swap two numbers."
      ]
    },
    {
      "cell_type": "code",
      "metadata": {
        "id": "mkvDNECwSH-m",
        "colab_type": "code",
        "colab": {
          "base_uri": "https://localhost:8080/",
          "height": 106
        },
        "outputId": "63f86f47-af33-4d0c-d614-1c2542ecf893"
      },
      "source": [
        "x=int(input(\"Enter the value of a\")) \n",
        "y=int(input(\"Enter the value of b\"))\n",
        "temp='x'\n",
        "x='y'\n",
        "y='temp'\n",
        "print(\"The value of x after swaping\", x) \n",
        "print(\"The value of y after swaping\", y)"
      ],
      "execution_count": null,
      "outputs": [
        {
          "output_type": "stream",
          "text": [
            "Enter the value of a7\n",
            "Enter the value of b9\n",
            "The value of x after swaping y\n",
            "The value of y after swaping temp\n"
          ],
          "name": "stdout"
        }
      ]
    }
  ]
}