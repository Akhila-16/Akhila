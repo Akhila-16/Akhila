{
  "nbformat": 4,
  "nbformat_minor": 0,
  "metadata": {
    "colab": {
      "name": "Python assignment on june 27",
      "provenance": [],
      "authorship_tag": "ABX9TyM3ntMH5JtsqLE5iexOiTkP",
      "include_colab_link": true
    },
    "kernelspec": {
      "name": "python3",
      "display_name": "Python 3"
    }
  },
  "cells": [
    {
      "cell_type": "markdown",
      "metadata": {
        "id": "view-in-github",
        "colab_type": "text"
      },
      "source": [
        "<a href=\"https://colab.research.google.com/github/Akhila-16/Akhila/blob/master/Python_assignment_on_june_27.ipynb\" target=\"_parent\"><img src=\"https://colab.research.google.com/assets/colab-badge.svg\" alt=\"Open In Colab\"/></a>"
      ]
    },
    {
      "cell_type": "markdown",
      "metadata": {
        "id": "Hyd4PlzXKiOf",
        "colab_type": "text"
      },
      "source": [
        "1.Write a program that prints the integers from 1 to 100.But for multiplies of three print \"Fizz\" instead of the number,and for the multiples of five print \"Buzz\".For numbers which are multiples of both three and five print \"FizzBuzz\"."
      ]
    },
    {
      "cell_type": "code",
      "metadata": {
        "id": "ussrYDQnLXa0",
        "colab_type": "code",
        "colab": {
          "base_uri": "https://localhost:8080/",
          "height": 1000
        },
        "outputId": "d73cda79-78dd-4c2b-dace-7265a3c95373"
      },
      "source": [
        "for fizzbuzz in range(100):\n",
        "    if fizzbuzz % 3 == 0 and fizzbuzz % 5 == 0:\n",
        "      print(\" fizzbuzz\")\n",
        "      continue\n",
        "    elif fizzbuzz % 3 == 0:\n",
        "      print(\" fizz\")\n",
        "      continue\n",
        "    elif fizzbuzz % 5 == 0:\n",
        "      print(\" buzz\")\n",
        "      continue\n",
        "    print(fizzbuzz)"
      ],
      "execution_count": 1,
      "outputs": [
        {
          "output_type": "stream",
          "text": [
            " fizzbuzz\n",
            "1\n",
            "2\n",
            " fizz\n",
            "4\n",
            " buzz\n",
            " fizz\n",
            "7\n",
            "8\n",
            " fizz\n",
            " buzz\n",
            "11\n",
            " fizz\n",
            "13\n",
            "14\n",
            " fizzbuzz\n",
            "16\n",
            "17\n",
            " fizz\n",
            "19\n",
            " buzz\n",
            " fizz\n",
            "22\n",
            "23\n",
            " fizz\n",
            " buzz\n",
            "26\n",
            " fizz\n",
            "28\n",
            "29\n",
            " fizzbuzz\n",
            "31\n",
            "32\n",
            " fizz\n",
            "34\n",
            " buzz\n",
            " fizz\n",
            "37\n",
            "38\n",
            " fizz\n",
            " buzz\n",
            "41\n",
            " fizz\n",
            "43\n",
            "44\n",
            " fizzbuzz\n",
            "46\n",
            "47\n",
            " fizz\n",
            "49\n",
            " buzz\n",
            " fizz\n",
            "52\n",
            "53\n",
            " fizz\n",
            " buzz\n",
            "56\n",
            " fizz\n",
            "58\n",
            "59\n",
            " fizzbuzz\n",
            "61\n",
            "62\n",
            " fizz\n",
            "64\n",
            " buzz\n",
            " fizz\n",
            "67\n",
            "68\n",
            " fizz\n",
            " buzz\n",
            "71\n",
            " fizz\n",
            "73\n",
            "74\n",
            " fizzbuzz\n",
            "76\n",
            "77\n",
            " fizz\n",
            "79\n",
            " buzz\n",
            " fizz\n",
            "82\n",
            "83\n",
            " fizz\n",
            " buzz\n",
            "86\n",
            " fizz\n",
            "88\n",
            "89\n",
            " fizzbuzz\n",
            "91\n",
            "92\n",
            " fizz\n",
            "94\n",
            " buzz\n",
            " fizz\n",
            "97\n",
            "98\n",
            " fizz\n"
          ],
          "name": "stdout"
        }
      ]
    },
    {
      "cell_type": "markdown",
      "metadata": {
        "id": "ylALKJ9UNO7M",
        "colab_type": "text"
      },
      "source": [
        "2.Write a python program to find unique element from a list."
      ]
    },
    {
      "cell_type": "code",
      "metadata": {
        "id": "oGSpbZzhNknc",
        "colab_type": "code",
        "colab": {
          "base_uri": "https://localhost:8080/",
          "height": 50
        },
        "outputId": "b8bd9ab2-f8ad-4b51-e6ba-c1250aec7fc4"
      },
      "source": [
        "my_list = [15 ,16 ,20, 30, 50, 15, 27, 16]\n",
        "print(\" Original list : \", my_list)\n",
        "my_set = set(my_list)\n",
        "my_new_list = list(my_set)\n",
        "print(\" List of unique numbers : \",my_new_list)"
      ],
      "execution_count": 7,
      "outputs": [
        {
          "output_type": "stream",
          "text": [
            " Original list :  [15, 16, 20, 30, 50, 15, 27, 16]\n",
            " List of unique numbers :  [15, 16, 50, 20, 27, 30]\n"
          ],
          "name": "stdout"
        }
      ]
    },
    {
      "cell_type": "markdown",
      "metadata": {
        "id": "uUlK9MddQjxC",
        "colab_type": "text"
      },
      "source": [
        "3.Write a function that checks whether a number is in a given range(inclusive of high and low)"
      ]
    },
    {
      "cell_type": "code",
      "metadata": {
        "id": "Rww2JnXEQ6PF",
        "colab_type": "code",
        "colab": {
          "base_uri": "https://localhost:8080/",
          "height": 34
        },
        "outputId": "ecb5b451-bba0-4266-ca1a-43d2eac49545"
      },
      "source": [
        "def test_range(n):\n",
        "  if n in range(9,50):\n",
        "    print( \" %s is in the range\"%str(n))\n",
        "  else :\n",
        "    print(\" The number is not in the range\")\n",
        "test_range(27)"
      ],
      "execution_count": 10,
      "outputs": [
        {
          "output_type": "stream",
          "text": [
            " 27 is in the range\n"
          ],
          "name": "stdout"
        }
      ]
    },
    {
      "cell_type": "markdown",
      "metadata": {
        "id": "rjgn6rxySTkh",
        "colab_type": "text"
      },
      "source": [
        "4.Write a python program function that accepts a string and calculates the number of upper case letters and lower case letters."
      ]
    },
    {
      "cell_type": "code",
      "metadata": {
        "id": "QqN4sRHhSr1B",
        "colab_type": "code",
        "colab": {
          "base_uri": "https://localhost:8080/",
          "height": 101
        },
        "outputId": "31892ceb-7c9c-4228-bcf2-f4e545f7f7c8"
      },
      "source": [
        "string = input(\" Enter a string: \")\n",
        "count1 = 0\n",
        "count2 = 0\n",
        "for i in string:\n",
        "      if(i.isupper()):\n",
        "            count1 = count1 +1\n",
        "      elif(i.islower()):\n",
        "               count2 = count2 +1\n",
        "print(\" No. of Upper case characters:\")\n",
        "print(count1)\n",
        "print(\" No. of Lower case characters:\")\n",
        "print(count2)               "
      ],
      "execution_count": 13,
      "outputs": [
        {
          "output_type": "stream",
          "text": [
            " Enter a string: 'Hi i am Akhila FROM Tirupathi\n",
            " No. of Upper case characters:\n",
            "7\n",
            " No. of Lower case characters:\n",
            "17\n"
          ],
          "name": "stdout"
        }
      ]
    },
    {
      "cell_type": "code",
      "metadata": {
        "id": "Th_i8aqjUz0g",
        "colab_type": "code",
        "colab": {}
      },
      "source": [
        ""
      ],
      "execution_count": null,
      "outputs": []
    }
  ]
}